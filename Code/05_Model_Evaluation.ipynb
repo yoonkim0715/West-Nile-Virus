{
 "cells": [
  {
   "cell_type": "markdown",
   "metadata": {},
   "source": [
    "# Model Evaluation"
   ]
  },
  {
   "cell_type": "code",
   "execution_count": 27,
   "metadata": {},
   "outputs": [
    {
     "data": {
      "text/plain": [
       "<mtrand.RandomState at 0x221077471f8>"
      ]
     },
     "execution_count": 27,
     "metadata": {},
     "output_type": "execute_result"
    }
   ],
   "source": [
    "import pandas as pd\n",
    "import numpy as np\n",
    "import pickle\n",
    "import seaborn as sns\n",
    "import matplotlib.pyplot as plt\n",
    "from sklearn.metrics import confusion_matrix, accuracy_score, recall_score, precision_score, roc_auc_score\n",
    "from sklearn.model_selection import train_test_split\n",
    "np.random.RandomState(42)"
   ]
  },
  {
   "cell_type": "code",
   "execution_count": 28,
   "metadata": {},
   "outputs": [],
   "source": [
    "X = pd.read_csv('../Data/X.csv',index_col=[0])\n",
    "y = pd.read_csv('../Data/y.csv',index_col=[0])\n",
    "test = pd.read_csv('../Data/formatted_test.csv',index_col=[0])\n",
    "with open('../Assets/LogReg.pkl','rb') as f:\n",
    "    LogReg = pickle.load(f)\n",
    "with open('../Assets/Gradboost.pkl','rb') as f:\n",
    "    Gradboost = pickle.load(f)\n",
    "with open('../Assets/RandFor.pkl','rb') as f:\n",
    "    RandFor = pickle.load(f)\n",
    "with open('../Assets/AdaBoost.pkl','rb') as f:\n",
    "    Adaboost = pickle.load(f)\n",
    "with open('../Assets/ID_list.pkl','rb') as f:\n",
    "    ID_list = pickle.load(f)"
   ]
  },
  {
   "cell_type": "markdown",
   "metadata": {},
   "source": [
    "### Train Test Split"
   ]
  },
  {
   "cell_type": "markdown",
   "metadata": {},
   "source": [
    "> This train test split mimics the train test split that was used for training each model. What this means is that the X_train, X_test, y_train, y_test are the exact same as the ones used to create each model."
   ]
  },
  {
   "cell_type": "code",
   "execution_count": 29,
   "metadata": {},
   "outputs": [],
   "source": [
    "X_train, X_test, y_train, y_test = train_test_split(X, y, test_size=0.3, random_state=42,stratify = y)"
   ]
  },
  {
   "cell_type": "markdown",
   "metadata": {},
   "source": [
    "> Looking at the roc_auc score for each model, we can see that many of our models suffered from overfitting. This can be common in instances where the classes are very unbalanced. For the kaggle competition, Logistic Regression will be the best choice, because the differences in roc_auc scores is the smallest. Because the kaggle competition is graded on roc_auc score, we want a model that will be able to generalize based on this metric. However, this is not the best metric for a production model, as we want to minimize type 2 errors, or false negatives."
   ]
  },
  {
   "cell_type": "code",
   "execution_count": 30,
   "metadata": {},
   "outputs": [
    {
     "name": "stdout",
     "output_type": "stream",
     "text": [
      "For Logistic Regression the roc auc score for the training data is: 0.797\n",
      "For Logistic Regression the roc auc score for the testing data is: 0.787 \n",
      "\n",
      "For Gradient Boosting the roc auc score for the training data is: 0.885\n",
      "For Gradient Boosting the roc auc score for the testing data is: 0.876 \n",
      "\n",
      "For Adaptive Boosting the roc auc score for the training data is: 0.996\n",
      "For Adaptive Boosting the roc auc score for the testing data is: 0.801 \n",
      "\n",
      "For Random Forest the roc auc score for the training data is: 0.945\n",
      "For Random Forest the roc auc score for the testing data is: 0.872 \n",
      "\n"
     ]
    }
   ],
   "source": [
    "model_dict = {LogReg:'Logistic Regression',Gradboost:'Gradient Boosting',Adaboost:'Adaptive Boosting',RandFor:'Random Forest'}\n",
    "for model in model_dict:\n",
    "    print('For '+model_dict[model], 'the roc auc score for the training data is:',round(model.score(X_train,y_train),3))\n",
    "    print('For '+model_dict[model], 'the roc auc score for the testing data is:',round(model.score(X_test,y_test),3),'\\n')"
   ]
  },
  {
   "cell_type": "markdown",
   "metadata": {},
   "source": [
    "> This cell saves a csv file to submit the probability of West Nile virus being present. The link to submit is https://www.kaggle.com/c/predict-west-nile-virus/leaderboard, and the csv file that would be submitted to kaggle is named 'to_kaggle.'"
   ]
  },
  {
   "cell_type": "code",
   "execution_count": 31,
   "metadata": {},
   "outputs": [],
   "source": [
    "pd.DataFrame(LogReg.predict_proba(test)[:,1],index=ID_list,columns=['WnvPresent']).to_csv('../Data/to_kaggle.csv')"
   ]
  },
  {
   "cell_type": "markdown",
   "metadata": {},
   "source": [
    "> This function provides us with several important metrics besides the roc_auc score. These metrics include:\n",
    ">> Accuracy: What percentage of prediction were correct\n",
    "    \n",
    ">> Recall: What percentage of cases where West Nile virus is present were predicted correctly\n",
    "    \n",
    ">> Precision: Of all the cases where we predict there will be West Nile virus, how many were correct\n",
    "    \n",
    ">>Confusion Matrix: This Data Frame shows us how our model performed by each case. The columns indicate how our model predicted for either the presence of lack of West Nile virus, and our rows indicate the actual presence of West Nile Virus"
   ]
  },
  {
   "cell_type": "code",
   "execution_count": 32,
   "metadata": {},
   "outputs": [],
   "source": [
    "def Confusion_matrix_df(model,X = X,y = y):\n",
    "    df = pd.DataFrame(confusion_matrix(y['WnvPresent'],model.predict(X)),\n",
    "    index=['No West Nile Present','West Nile Present'],\n",
    "    columns=['Predicted No West Nile Present','Predicted West Nile Present'])\n",
    "    \n",
    "    print(\"The model's Accuracy rate is\",round(accuracy_score(y['WnvPresent'],model.predict(X))*100,2),'%')\n",
    "    print(\"The model's Recall is\",round(recall_score(y['WnvPresent'],model.predict(X))*100,2),'%')\n",
    "    print(\"The model's Precision is\",round(precision_score(y['WnvPresent'],model.predict(X))*100,2),'%')\n",
    "    return df"
   ]
  },
  {
   "cell_type": "code",
   "execution_count": 33,
   "metadata": {},
   "outputs": [
    {
     "name": "stdout",
     "output_type": "stream",
     "text": [
      "The model's Accuracy rate is 68.21 %\n",
      "The model's Recall is 75.76 %\n",
      "The model's Precision is 11.5 %\n"
     ]
    },
    {
     "data": {
      "text/html": [
       "<div>\n",
       "<style scoped>\n",
       "    .dataframe tbody tr th:only-of-type {\n",
       "        vertical-align: middle;\n",
       "    }\n",
       "\n",
       "    .dataframe tbody tr th {\n",
       "        vertical-align: top;\n",
       "    }\n",
       "\n",
       "    .dataframe thead th {\n",
       "        text-align: right;\n",
       "    }\n",
       "</style>\n",
       "<table border=\"1\" class=\"dataframe\">\n",
       "  <thead>\n",
       "    <tr style=\"text-align: right;\">\n",
       "      <th></th>\n",
       "      <th>Predicted No West Nile Present</th>\n",
       "      <th>Predicted West Nile Present</th>\n",
       "    </tr>\n",
       "  </thead>\n",
       "  <tbody>\n",
       "    <tr>\n",
       "      <th>No West Nile Present</th>\n",
       "      <td>2025</td>\n",
       "      <td>962</td>\n",
       "    </tr>\n",
       "    <tr>\n",
       "      <th>West Nile Present</th>\n",
       "      <td>40</td>\n",
       "      <td>125</td>\n",
       "    </tr>\n",
       "  </tbody>\n",
       "</table>\n",
       "</div>"
      ],
      "text/plain": [
       "                      Predicted No West Nile Present  \\\n",
       "No West Nile Present                            2025   \n",
       "West Nile Present                                 40   \n",
       "\n",
       "                      Predicted West Nile Present  \n",
       "No West Nile Present                          962  \n",
       "West Nile Present                             125  "
      ]
     },
     "execution_count": 33,
     "metadata": {},
     "output_type": "execute_result"
    }
   ],
   "source": [
    "Confusion_matrix_df(LogReg,X = X_test,y = y_test)"
   ]
  },
  {
   "cell_type": "code",
   "execution_count": 34,
   "metadata": {},
   "outputs": [
    {
     "name": "stdout",
     "output_type": "stream",
     "text": [
      "The model's Accuracy rate is 94.64 %\n",
      "The model's Recall is 0.61 %\n",
      "The model's Precision is 16.67 %\n"
     ]
    },
    {
     "data": {
      "text/html": [
       "<div>\n",
       "<style scoped>\n",
       "    .dataframe tbody tr th:only-of-type {\n",
       "        vertical-align: middle;\n",
       "    }\n",
       "\n",
       "    .dataframe tbody tr th {\n",
       "        vertical-align: top;\n",
       "    }\n",
       "\n",
       "    .dataframe thead th {\n",
       "        text-align: right;\n",
       "    }\n",
       "</style>\n",
       "<table border=\"1\" class=\"dataframe\">\n",
       "  <thead>\n",
       "    <tr style=\"text-align: right;\">\n",
       "      <th></th>\n",
       "      <th>Predicted No West Nile Present</th>\n",
       "      <th>Predicted West Nile Present</th>\n",
       "    </tr>\n",
       "  </thead>\n",
       "  <tbody>\n",
       "    <tr>\n",
       "      <th>No West Nile Present</th>\n",
       "      <td>2982</td>\n",
       "      <td>5</td>\n",
       "    </tr>\n",
       "    <tr>\n",
       "      <th>West Nile Present</th>\n",
       "      <td>164</td>\n",
       "      <td>1</td>\n",
       "    </tr>\n",
       "  </tbody>\n",
       "</table>\n",
       "</div>"
      ],
      "text/plain": [
       "                      Predicted No West Nile Present  \\\n",
       "No West Nile Present                            2982   \n",
       "West Nile Present                                164   \n",
       "\n",
       "                      Predicted West Nile Present  \n",
       "No West Nile Present                            5  \n",
       "West Nile Present                               1  "
      ]
     },
     "execution_count": 34,
     "metadata": {},
     "output_type": "execute_result"
    }
   ],
   "source": [
    "Confusion_matrix_df(Gradboost,X = X_test,y = y_test)"
   ]
  },
  {
   "cell_type": "code",
   "execution_count": 35,
   "metadata": {},
   "outputs": [
    {
     "name": "stdout",
     "output_type": "stream",
     "text": [
      "The model's Accuracy rate is 85.18 %\n",
      "The model's Recall is 69.09 %\n",
      "The model's Precision is 21.51 %\n"
     ]
    },
    {
     "data": {
      "text/html": [
       "<div>\n",
       "<style scoped>\n",
       "    .dataframe tbody tr th:only-of-type {\n",
       "        vertical-align: middle;\n",
       "    }\n",
       "\n",
       "    .dataframe tbody tr th {\n",
       "        vertical-align: top;\n",
       "    }\n",
       "\n",
       "    .dataframe thead th {\n",
       "        text-align: right;\n",
       "    }\n",
       "</style>\n",
       "<table border=\"1\" class=\"dataframe\">\n",
       "  <thead>\n",
       "    <tr style=\"text-align: right;\">\n",
       "      <th></th>\n",
       "      <th>Predicted No West Nile Present</th>\n",
       "      <th>Predicted West Nile Present</th>\n",
       "    </tr>\n",
       "  </thead>\n",
       "  <tbody>\n",
       "    <tr>\n",
       "      <th>No West Nile Present</th>\n",
       "      <td>2571</td>\n",
       "      <td>416</td>\n",
       "    </tr>\n",
       "    <tr>\n",
       "      <th>West Nile Present</th>\n",
       "      <td>51</td>\n",
       "      <td>114</td>\n",
       "    </tr>\n",
       "  </tbody>\n",
       "</table>\n",
       "</div>"
      ],
      "text/plain": [
       "                      Predicted No West Nile Present  \\\n",
       "No West Nile Present                            2571   \n",
       "West Nile Present                                 51   \n",
       "\n",
       "                      Predicted West Nile Present  \n",
       "No West Nile Present                          416  \n",
       "West Nile Present                             114  "
      ]
     },
     "execution_count": 35,
     "metadata": {},
     "output_type": "execute_result"
    }
   ],
   "source": [
    "Confusion_matrix_df(RandFor,X = X_test,y =y_test)"
   ]
  },
  {
   "cell_type": "code",
   "execution_count": 36,
   "metadata": {},
   "outputs": [
    {
     "name": "stdout",
     "output_type": "stream",
     "text": [
      "The model's Accuracy rate is 90.04 %\n",
      "The model's Recall is 29.7 %\n",
      "The model's Precision is 19.84 %\n"
     ]
    },
    {
     "data": {
      "text/html": [
       "<div>\n",
       "<style scoped>\n",
       "    .dataframe tbody tr th:only-of-type {\n",
       "        vertical-align: middle;\n",
       "    }\n",
       "\n",
       "    .dataframe tbody tr th {\n",
       "        vertical-align: top;\n",
       "    }\n",
       "\n",
       "    .dataframe thead th {\n",
       "        text-align: right;\n",
       "    }\n",
       "</style>\n",
       "<table border=\"1\" class=\"dataframe\">\n",
       "  <thead>\n",
       "    <tr style=\"text-align: right;\">\n",
       "      <th></th>\n",
       "      <th>Predicted No West Nile Present</th>\n",
       "      <th>Predicted West Nile Present</th>\n",
       "    </tr>\n",
       "  </thead>\n",
       "  <tbody>\n",
       "    <tr>\n",
       "      <th>No West Nile Present</th>\n",
       "      <td>2789</td>\n",
       "      <td>198</td>\n",
       "    </tr>\n",
       "    <tr>\n",
       "      <th>West Nile Present</th>\n",
       "      <td>116</td>\n",
       "      <td>49</td>\n",
       "    </tr>\n",
       "  </tbody>\n",
       "</table>\n",
       "</div>"
      ],
      "text/plain": [
       "                      Predicted No West Nile Present  \\\n",
       "No West Nile Present                            2789   \n",
       "West Nile Present                                116   \n",
       "\n",
       "                      Predicted West Nile Present  \n",
       "No West Nile Present                          198  \n",
       "West Nile Present                              49  "
      ]
     },
     "execution_count": 36,
     "metadata": {},
     "output_type": "execute_result"
    }
   ],
   "source": [
    "Confusion_matrix_df(Adaboost,X = X_test,y =y_test)"
   ]
  },
  {
   "cell_type": "markdown",
   "metadata": {},
   "source": [
    "> After looking at the metrics for each of our models, the model that would be best for predicting West Nile virus would be the Random Forest Model. The metrics that are the most important for this particular data science problem would be recall and precision. Even though Logistic Regression had a higher recall rate that Random Forest, it predicted far more cases of West Nile incorrectly, more than double, than Random Forest did. For these reason, I believe that Random Forrest is our best performing model for this specific problem."
   ]
  },
  {
   "cell_type": "code",
   "execution_count": 18,
   "metadata": {},
   "outputs": [],
   "source": [
    "feature_importance = pd.DataFrame(RandFor.best_estimator_.named_steps['rf'].feature_importances_,index = X_train.columns,columns=['Importance'])\n",
    "top_10 = feature_importance.sort_values(by='Importance',ascending=False).head(10)"
   ]
  },
  {
   "cell_type": "markdown",
   "metadata": {},
   "source": [
    "> For each feature, the classifier produces a statistical measurement for how important the feature was for predicting the target variable by looking at how much the tree nodes, which use that feature, reduce impurity across all trees in the forest. It computes this score automatically for each feature after training, and scales the results so that the sum of all importance is equal to 1. 0.0972 means almost 9% of the samples is correctly classified by this feature. Looking at the feature importances can give you a sense of which of your variables have the most effect in these models. Through looking at the feature importance, you can decide which features you may want to drop, because they don’t contribute enough or nothing to the prediction process. This is important, because a general rule in machine learning is that the more features you have, the more likely your model will suffer from overfitting and vice versa. The graph below shows us the top 10 features for our Random Forest model."
   ]
  },
  {
   "cell_type": "code",
   "execution_count": 19,
   "metadata": {},
   "outputs": [
    {
     "data": {
      "image/png": "[encoded data removed]",
      "text/plain": [
       "<matplotlib.figure.Figure at 0x22106715b70>"
      ]
     },
     "metadata": {},
     "output_type": "display_data"
    }
   ],
   "source": [
    "#axis_names = ['7 Day Avg: Daylight','Longitude','Month','Latitude','7 Day Avg: Temp','Year','7 Day Avg: Precipitation','Humidity','Dew Point','Wet Bulb']\n",
    "f, ax = plt.subplots(figsize=(15,8))\n",
    "sns.barplot(y = top_10[\"Importance\"],x = top_10.index,ax=ax,color='goldenrod')\n",
    "ax.set_title(\"Feature Importance\");"
   ]
  },
  {
   "cell_type": "markdown",
   "metadata": {},
   "source": [
    "# Moving Forward"
   ]
  },
  {
   "cell_type": "markdown",
   "metadata": {},
   "source": [
    "> This project was particularly interesting due to the time nature of the training and testing data. It was particularly interesting in terms of optimizing for a metric that is not accuracy, and dealing with very unbalanced classes. Moving forward it would be interesting to have full access to the testing data to see if we would be able to predict the presence of West Nile virus for years after 2015."
   ]
  }
 ],
 "metadata": {
  "kernelspec": {
   "display_name": "Python 3",
   "language": "python",
   "name": "python3"
  },
  "language_info": {
   "codemirror_mode": {
    "name": "ipython",
    "version": 3
   },
   "file_extension": ".py",
   "mimetype": "text/x-python",
   "name": "python",
   "nbconvert_exporter": "python",
   "pygments_lexer": "ipython3",
   "version": "3.6.5"
  }
 },
 "nbformat": 4,
 "nbformat_minor": 2
}
