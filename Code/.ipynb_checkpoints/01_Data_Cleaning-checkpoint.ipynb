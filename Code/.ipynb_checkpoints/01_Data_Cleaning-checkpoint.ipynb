{
 "cells": [
  {
   "cell_type": "markdown",
   "metadata": {},
   "source": [
    "# Preprocessing"
   ]
  },
  {
   "cell_type": "markdown",
   "metadata": {},
   "source": [
    ">Importing the right libraries to clean/examine the data"
   ]
  },
  {
   "cell_type": "code",
   "execution_count": 1,
   "metadata": {},
   "outputs": [
    {
     "data": {
      "text/plain": [
       "<mtrand.RandomState at 0x18b350ee3f0>"
      ]
     },
     "execution_count": 1,
     "metadata": {},
     "output_type": "execute_result"
    }
   ],
   "source": [
    "import pandas as pd\n",
    "import numpy as np\n",
    "from datetime import datetime\n",
    "np.random.RandomState(42)"
   ]
  },
  {
   "cell_type": "markdown",
   "metadata": {},
   "source": [
    ">Reading in the weather, training, spray, and testing dataset, and converting them into pandas dataframes."
   ]
  },
  {
   "cell_type": "code",
   "execution_count": 2,
   "metadata": {},
   "outputs": [],
   "source": [
    "train = pd.read_csv('../Data/train.csv')\n",
    "weather = pd.read_csv('../Data/weather.csv')\n",
    "spray = pd.read_csv('../Data/spray.csv')\n",
    "test = pd.read_csv('../Data/test.csv')\n",
    "train.name = 'train'\n",
    "weather.name = 'weather'\n",
    "spray.name = 'spray'\n",
    "test.name = 'test'"
   ]
  },
  {
   "cell_type": "markdown",
   "metadata": {},
   "source": [
    "### Cleaning the Weather Data"
   ]
  },
  {
   "cell_type": "markdown",
   "metadata": {},
   "source": [
    "> According to the Data dictionary, the string 'M' and '-' were used to indicate missing data. By replacing them with null values, it will be easier to manage these missing values later. For CodeSum, a space represents no unusual weather, so we replace it for interpretability, For Precipitation total, the Data dictionary states that T stands for trace amount of participation, so it is reasonable to assume that this value could be half of the lowest value. This is done so that our data can be passed through a machine learning model."
   ]
  },
  {
   "cell_type": "code",
   "execution_count": 3,
   "metadata": {},
   "outputs": [],
   "source": [
    "weather.replace(to_replace='M',value=np.NAN,inplace = True)\n",
    "weather.replace(to_replace='-',value=np.NAN,inplace = True)\n",
    "weather['CodeSum'].replace(to_replace = ' ',value = 'No Weather',inplace = True)\n",
    "weather['PrecipTotal'].replace(to_replace='  T',value=.005,inplace=True)"
   ]
  },
  {
   "cell_type": "markdown",
   "metadata": {},
   "source": [
    ">Looking at the dates with missing precipitation, we can see that there are only two dates with that missing data. We can find these values online at https://www.wunderground.com/history/daily/us/il/chicago/KORD/date/2007-6-29. Both dates had no precipitation, so we can fill these missing values with 0."
   ]
  },
  {
   "cell_type": "code",
   "execution_count": 4,
   "metadata": {},
   "outputs": [
    {
     "data": {
      "text/html": [
       "<div>\n",
       "<style scoped>\n",
       "    .dataframe tbody tr th:only-of-type {\n",
       "        vertical-align: middle;\n",
       "    }\n",
       "\n",
       "    .dataframe tbody tr th {\n",
       "        vertical-align: top;\n",
       "    }\n",
       "\n",
       "    .dataframe thead th {\n",
       "        text-align: right;\n",
       "    }\n",
       "</style>\n",
       "<table border=\"1\" class=\"dataframe\">\n",
       "  <thead>\n",
       "    <tr style=\"text-align: right;\">\n",
       "      <th></th>\n",
       "      <th>Station</th>\n",
       "      <th>Date</th>\n",
       "      <th>Tmax</th>\n",
       "      <th>Tmin</th>\n",
       "      <th>Tavg</th>\n",
       "      <th>Depart</th>\n",
       "      <th>DewPoint</th>\n",
       "      <th>WetBulb</th>\n",
       "      <th>Heat</th>\n",
       "      <th>Cool</th>\n",
       "      <th>...</th>\n",
       "      <th>CodeSum</th>\n",
       "      <th>Depth</th>\n",
       "      <th>Water1</th>\n",
       "      <th>SnowFall</th>\n",
       "      <th>PrecipTotal</th>\n",
       "      <th>StnPressure</th>\n",
       "      <th>SeaLevel</th>\n",
       "      <th>ResultSpeed</th>\n",
       "      <th>ResultDir</th>\n",
       "      <th>AvgSpeed</th>\n",
       "    </tr>\n",
       "  </thead>\n",
       "  <tbody>\n",
       "    <tr>\n",
       "      <th>117</th>\n",
       "      <td>2</td>\n",
       "      <td>2007-06-28</td>\n",
       "      <td>73</td>\n",
       "      <td>61</td>\n",
       "      <td>67</td>\n",
       "      <td>NaN</td>\n",
       "      <td>56</td>\n",
       "      <td>61</td>\n",
       "      <td>0</td>\n",
       "      <td>2</td>\n",
       "      <td>...</td>\n",
       "      <td>No Weather</td>\n",
       "      <td>NaN</td>\n",
       "      <td>NaN</td>\n",
       "      <td>NaN</td>\n",
       "      <td>NaN</td>\n",
       "      <td>29.43</td>\n",
       "      <td>30.07</td>\n",
       "      <td>12.2</td>\n",
       "      <td>2</td>\n",
       "      <td>13.3</td>\n",
       "    </tr>\n",
       "    <tr>\n",
       "      <th>119</th>\n",
       "      <td>2</td>\n",
       "      <td>2007-06-29</td>\n",
       "      <td>71</td>\n",
       "      <td>56</td>\n",
       "      <td>64</td>\n",
       "      <td>NaN</td>\n",
       "      <td>56</td>\n",
       "      <td>60</td>\n",
       "      <td>1</td>\n",
       "      <td>0</td>\n",
       "      <td>...</td>\n",
       "      <td>No Weather</td>\n",
       "      <td>NaN</td>\n",
       "      <td>NaN</td>\n",
       "      <td>NaN</td>\n",
       "      <td>NaN</td>\n",
       "      <td>29.47</td>\n",
       "      <td>30.11</td>\n",
       "      <td>7.4</td>\n",
       "      <td>2</td>\n",
       "      <td>8.2</td>\n",
       "    </tr>\n",
       "  </tbody>\n",
       "</table>\n",
       "<p>2 rows × 22 columns</p>\n",
       "</div>"
      ],
      "text/plain": [
       "     Station        Date  Tmax  Tmin Tavg Depart  DewPoint WetBulb Heat Cool  \\\n",
       "117        2  2007-06-28    73    61   67    NaN        56      61    0    2   \n",
       "119        2  2007-06-29    71    56   64    NaN        56      60    1    0   \n",
       "\n",
       "       ...        CodeSum Depth Water1 SnowFall  PrecipTotal StnPressure  \\\n",
       "117    ...     No Weather   NaN    NaN      NaN          NaN       29.43   \n",
       "119    ...     No Weather   NaN    NaN      NaN          NaN       29.47   \n",
       "\n",
       "    SeaLevel ResultSpeed ResultDir  AvgSpeed  \n",
       "117    30.07        12.2         2      13.3  \n",
       "119    30.11         7.4         2       8.2  \n",
       "\n",
       "[2 rows x 22 columns]"
      ]
     },
     "execution_count": 4,
     "metadata": {},
     "output_type": "execute_result"
    }
   ],
   "source": [
    "weather[weather['PrecipTotal'].isnull()]"
   ]
  },
  {
   "cell_type": "code",
   "execution_count": 5,
   "metadata": {},
   "outputs": [],
   "source": [
    "weather['PrecipTotal'].fillna(0.0,inplace=True)"
   ]
  },
  {
   "cell_type": "markdown",
   "metadata": {},
   "source": [
    ">After doing outside research, I believe that these weather feature should have no direct impact in the probability of a trap having traces of West Nile Virus."
   ]
  },
  {
   "cell_type": "code",
   "execution_count": 7,
   "metadata": {},
   "outputs": [],
   "source": [
    "weather.drop(columns=['Water1',\n",
    "                      'ResultSpeed',\n",
    "                      'ResultDir',\n",
    "                      'SeaLevel',\n",
    "                      'AvgSpeed',\n",
    "                      'SnowFall',\n",
    "                      'Depth',\n",
    "                      'Depart',\n",
    "                      'StnPressure'],\n",
    "             inplace=True)"
   ]
  },
  {
   "cell_type": "markdown",
   "metadata": {},
   "source": [
    ">After looking at which features are missing data, we can see that most belong to station 2. These cells replace the missing data from station 2 with the data from station 1 for each day with missing data only."
   ]
  },
  {
   "cell_type": "code",
   "execution_count": 8,
   "metadata": {},
   "outputs": [
    {
     "name": "stdout",
     "output_type": "stream",
     "text": [
      "There are 3 null values for station1\n",
      "There are 2978 null values for station2\n"
     ]
    }
   ],
   "source": [
    "print('There are',weather[weather['Station'] == 1].isnull().sum().sum(),'null values for station1')\n",
    "print('There are',weather[weather['Station'] == 2].isnull().sum().sum(),'null values for station2')"
   ]
  },
  {
   "cell_type": "code",
   "execution_count": 9,
   "metadata": {},
   "outputs": [
    {
     "name": "stdout",
     "output_type": "stream",
     "text": [
      "The Tavg feature is missing 11 observations out of 2944\n",
      "The WetBulb feature is missing 4 observations out of 2944\n",
      "The Heat feature is missing 11 observations out of 2944\n",
      "The Cool feature is missing 11 observations out of 2944\n",
      "The Sunrise feature is missing 1472 observations out of 2944\n",
      "The Sunset feature is missing 1472 observations out of 2944\n"
     ]
    }
   ],
   "source": [
    "def check_nulls(dataframe):\n",
    "    i = 0\n",
    "    for col in dataframe:\n",
    "        if dataframe[col].isnull().sum() > 0:\n",
    "            i += 1\n",
    "            print('The',col,'feature is missing',dataframe[col].isnull().sum(),'observations out of',len(dataframe))\n",
    "    if i == 0:\n",
    "        print('There are no missing values in the',dataframe.name,'dataframe')\n",
    "check_nulls(weather)"
   ]
  },
  {
   "cell_type": "code",
   "execution_count": 10,
   "metadata": {},
   "outputs": [],
   "source": [
    "station2_index = weather[weather['Station'] == 1].index+1\n",
    "station1_index = weather[weather['Station'] == 1].index\n",
    "for feature in ['Tavg','WetBulb','Sunrise','Sunset','CodeSum']:\n",
    "    for row in station2_index:\n",
    "        if weather.loc[row,feature] is np.NAN:\n",
    "            weather.loc[row,feature] = weather.loc[row-1,feature]"
   ]
  },
  {
   "cell_type": "markdown",
   "metadata": {},
   "source": [
    ">After applying our for loop, we can see that we are still missing 3 WetBulb values. Looking at these rows, we can see that they belong in station 1, so we apply the same concept that we applied above."
   ]
  },
  {
   "cell_type": "code",
   "execution_count": 11,
   "metadata": {},
   "outputs": [
    {
     "name": "stdout",
     "output_type": "stream",
     "text": [
      "The WetBulb feature is missing 3 observations out of 2944\n",
      "The Heat feature is missing 11 observations out of 2944\n",
      "The Cool feature is missing 11 observations out of 2944\n"
     ]
    }
   ],
   "source": [
    "check_nulls(weather)"
   ]
  },
  {
   "cell_type": "code",
   "execution_count": 12,
   "metadata": {},
   "outputs": [
    {
     "name": "stdout",
     "output_type": "stream",
     "text": [
      "There are 3 null values for station1\n",
      "There are 22 null values for station2\n"
     ]
    }
   ],
   "source": [
    "print('There are',weather[weather['Station'] == 1].isnull().sum().sum(),'null values for station1')\n",
    "print('There are',weather[weather['Station'] == 2].isnull().sum().sum(),'null values for station2')"
   ]
  },
  {
   "cell_type": "code",
   "execution_count": 13,
   "metadata": {},
   "outputs": [
    {
     "data": {
      "text/html": [
       "<div>\n",
       "<style scoped>\n",
       "    .dataframe tbody tr th:only-of-type {\n",
       "        vertical-align: middle;\n",
       "    }\n",
       "\n",
       "    .dataframe tbody tr th {\n",
       "        vertical-align: top;\n",
       "    }\n",
       "\n",
       "    .dataframe thead th {\n",
       "        text-align: right;\n",
       "    }\n",
       "</style>\n",
       "<table border=\"1\" class=\"dataframe\">\n",
       "  <thead>\n",
       "    <tr style=\"text-align: right;\">\n",
       "      <th></th>\n",
       "      <th>Station</th>\n",
       "      <th>Date</th>\n",
       "      <th>Tmax</th>\n",
       "      <th>Tmin</th>\n",
       "      <th>Tavg</th>\n",
       "      <th>DewPoint</th>\n",
       "      <th>WetBulb</th>\n",
       "      <th>Heat</th>\n",
       "      <th>Cool</th>\n",
       "      <th>Sunrise</th>\n",
       "      <th>Sunset</th>\n",
       "      <th>CodeSum</th>\n",
       "      <th>PrecipTotal</th>\n",
       "    </tr>\n",
       "  </thead>\n",
       "  <tbody>\n",
       "    <tr>\n",
       "      <th>848</th>\n",
       "      <td>1</td>\n",
       "      <td>2009-06-26</td>\n",
       "      <td>86</td>\n",
       "      <td>69</td>\n",
       "      <td>78</td>\n",
       "      <td>60</td>\n",
       "      <td>NaN</td>\n",
       "      <td>0</td>\n",
       "      <td>13</td>\n",
       "      <td>0418</td>\n",
       "      <td>1931</td>\n",
       "      <td>No Weather</td>\n",
       "      <td>0.00</td>\n",
       "    </tr>\n",
       "    <tr>\n",
       "      <th>2410</th>\n",
       "      <td>1</td>\n",
       "      <td>2013-08-10</td>\n",
       "      <td>81</td>\n",
       "      <td>64</td>\n",
       "      <td>73</td>\n",
       "      <td>57</td>\n",
       "      <td>NaN</td>\n",
       "      <td>0</td>\n",
       "      <td>8</td>\n",
       "      <td>0454</td>\n",
       "      <td>1900</td>\n",
       "      <td>No Weather</td>\n",
       "      <td>0.00</td>\n",
       "    </tr>\n",
       "    <tr>\n",
       "      <th>2412</th>\n",
       "      <td>1</td>\n",
       "      <td>2013-08-11</td>\n",
       "      <td>81</td>\n",
       "      <td>60</td>\n",
       "      <td>71</td>\n",
       "      <td>61</td>\n",
       "      <td>NaN</td>\n",
       "      <td>0</td>\n",
       "      <td>6</td>\n",
       "      <td>0455</td>\n",
       "      <td>1859</td>\n",
       "      <td>RA</td>\n",
       "      <td>0.01</td>\n",
       "    </tr>\n",
       "  </tbody>\n",
       "</table>\n",
       "</div>"
      ],
      "text/plain": [
       "      Station        Date  Tmax  Tmin Tavg  DewPoint WetBulb Heat Cool  \\\n",
       "848         1  2009-06-26    86    69   78        60     NaN    0   13   \n",
       "2410        1  2013-08-10    81    64   73        57     NaN    0    8   \n",
       "2412        1  2013-08-11    81    60   71        61     NaN    0    6   \n",
       "\n",
       "     Sunrise Sunset     CodeSum PrecipTotal  \n",
       "848     0418   1931  No Weather        0.00  \n",
       "2410    0454   1900  No Weather        0.00  \n",
       "2412    0455   1859          RA        0.01  "
      ]
     },
     "execution_count": 13,
     "metadata": {},
     "output_type": "execute_result"
    }
   ],
   "source": [
    "weather[weather['WetBulb'].isnull()]"
   ]
  },
  {
   "cell_type": "code",
   "execution_count": 14,
   "metadata": {},
   "outputs": [],
   "source": [
    "weather.loc[station1_index,'WetBulb'] = weather.loc[station2_index,'WetBulb'].values"
   ]
  },
  {
   "cell_type": "markdown",
   "metadata": {},
   "source": [
    ">According to the cell below, we can see that our dataframe is no longer missing any values."
   ]
  },
  {
   "cell_type": "code",
   "execution_count": 15,
   "metadata": {},
   "outputs": [
    {
     "name": "stdout",
     "output_type": "stream",
     "text": [
      "The Heat feature is missing 11 observations out of 2944\n",
      "The Cool feature is missing 11 observations out of 2944\n"
     ]
    }
   ],
   "source": [
    "check_nulls(weather)"
   ]
  },
  {
   "cell_type": "markdown",
   "metadata": {},
   "source": [
    "> This is how our weather dataframe looks after cleaning"
   ]
  },
  {
   "cell_type": "code",
   "execution_count": 16,
   "metadata": {},
   "outputs": [
    {
     "data": {
      "text/html": [
       "<div>\n",
       "<style scoped>\n",
       "    .dataframe tbody tr th:only-of-type {\n",
       "        vertical-align: middle;\n",
       "    }\n",
       "\n",
       "    .dataframe tbody tr th {\n",
       "        vertical-align: top;\n",
       "    }\n",
       "\n",
       "    .dataframe thead th {\n",
       "        text-align: right;\n",
       "    }\n",
       "</style>\n",
       "<table border=\"1\" class=\"dataframe\">\n",
       "  <thead>\n",
       "    <tr style=\"text-align: right;\">\n",
       "      <th></th>\n",
       "      <th>Station</th>\n",
       "      <th>Date</th>\n",
       "      <th>Tmax</th>\n",
       "      <th>Tmin</th>\n",
       "      <th>Tavg</th>\n",
       "      <th>DewPoint</th>\n",
       "      <th>WetBulb</th>\n",
       "      <th>Heat</th>\n",
       "      <th>Cool</th>\n",
       "      <th>Sunrise</th>\n",
       "      <th>Sunset</th>\n",
       "      <th>CodeSum</th>\n",
       "      <th>PrecipTotal</th>\n",
       "    </tr>\n",
       "  </thead>\n",
       "  <tbody>\n",
       "    <tr>\n",
       "      <th>0</th>\n",
       "      <td>1</td>\n",
       "      <td>2007-05-01</td>\n",
       "      <td>83</td>\n",
       "      <td>50</td>\n",
       "      <td>67</td>\n",
       "      <td>51</td>\n",
       "      <td>57</td>\n",
       "      <td>0</td>\n",
       "      <td>2</td>\n",
       "      <td>0448</td>\n",
       "      <td>1849</td>\n",
       "      <td>No Weather</td>\n",
       "      <td>0.00</td>\n",
       "    </tr>\n",
       "    <tr>\n",
       "      <th>1</th>\n",
       "      <td>2</td>\n",
       "      <td>2007-05-01</td>\n",
       "      <td>84</td>\n",
       "      <td>52</td>\n",
       "      <td>68</td>\n",
       "      <td>51</td>\n",
       "      <td>57</td>\n",
       "      <td>0</td>\n",
       "      <td>3</td>\n",
       "      <td>0448</td>\n",
       "      <td>1849</td>\n",
       "      <td>No Weather</td>\n",
       "      <td>0.00</td>\n",
       "    </tr>\n",
       "    <tr>\n",
       "      <th>2</th>\n",
       "      <td>1</td>\n",
       "      <td>2007-05-02</td>\n",
       "      <td>59</td>\n",
       "      <td>42</td>\n",
       "      <td>51</td>\n",
       "      <td>42</td>\n",
       "      <td>47</td>\n",
       "      <td>14</td>\n",
       "      <td>0</td>\n",
       "      <td>0447</td>\n",
       "      <td>1850</td>\n",
       "      <td>BR</td>\n",
       "      <td>0.00</td>\n",
       "    </tr>\n",
       "    <tr>\n",
       "      <th>3</th>\n",
       "      <td>2</td>\n",
       "      <td>2007-05-02</td>\n",
       "      <td>60</td>\n",
       "      <td>43</td>\n",
       "      <td>52</td>\n",
       "      <td>42</td>\n",
       "      <td>47</td>\n",
       "      <td>13</td>\n",
       "      <td>0</td>\n",
       "      <td>0447</td>\n",
       "      <td>1850</td>\n",
       "      <td>BR HZ</td>\n",
       "      <td>0.00</td>\n",
       "    </tr>\n",
       "    <tr>\n",
       "      <th>4</th>\n",
       "      <td>1</td>\n",
       "      <td>2007-05-03</td>\n",
       "      <td>66</td>\n",
       "      <td>46</td>\n",
       "      <td>56</td>\n",
       "      <td>40</td>\n",
       "      <td>50</td>\n",
       "      <td>9</td>\n",
       "      <td>0</td>\n",
       "      <td>0446</td>\n",
       "      <td>1851</td>\n",
       "      <td>No Weather</td>\n",
       "      <td>0.00</td>\n",
       "    </tr>\n",
       "  </tbody>\n",
       "</table>\n",
       "</div>"
      ],
      "text/plain": [
       "   Station        Date  Tmax  Tmin Tavg  DewPoint WetBulb Heat Cool Sunrise  \\\n",
       "0        1  2007-05-01    83    50   67        51      57    0    2    0448   \n",
       "1        2  2007-05-01    84    52   68        51      57    0    3    0448   \n",
       "2        1  2007-05-02    59    42   51        42      47   14    0    0447   \n",
       "3        2  2007-05-02    60    43   52        42      47   13    0    0447   \n",
       "4        1  2007-05-03    66    46   56        40      50    9    0    0446   \n",
       "\n",
       "  Sunset     CodeSum PrecipTotal  \n",
       "0   1849  No Weather        0.00  \n",
       "1   1849  No Weather        0.00  \n",
       "2   1850          BR        0.00  \n",
       "3   1850       BR HZ        0.00  \n",
       "4   1851  No Weather        0.00  "
      ]
     },
     "execution_count": 16,
     "metadata": {},
     "output_type": "execute_result"
    }
   ],
   "source": [
    "weather.head()"
   ]
  },
  {
   "cell_type": "markdown",
   "metadata": {},
   "source": [
    "### Cleaning Train/Test Data"
   ]
  },
  {
   "cell_type": "markdown",
   "metadata": {},
   "source": [
    ">Because our training and testing dataset are the same (minus the output features of NumMosquitos and WnvPresent), we should clean them in the same way in order to make sure that they have the same shape. This is important for our machine learning model's prediction process."
   ]
  },
  {
   "cell_type": "markdown",
   "metadata": {},
   "source": [
    ">The cell below drops the features that have to do with location that we can not use while creating our machine learning models, like the Address, Street, etc."
   ]
  },
  {
   "cell_type": "code",
   "execution_count": 17,
   "metadata": {},
   "outputs": [],
   "source": [
    "for df in [test,train]:\n",
    "    df.drop(columns=['Street','AddressNumberAndStreet','Address','AddressAccuracy'],inplace = True)"
   ]
  },
  {
   "cell_type": "code",
   "execution_count": 18,
   "metadata": {},
   "outputs": [
    {
     "name": "stdout",
     "output_type": "stream",
     "text": [
      "There are no missing values in the test dataframe\n",
      "There are no missing values in the train dataframe\n"
     ]
    }
   ],
   "source": [
    "check_nulls(test)\n",
    "check_nulls(train)"
   ]
  },
  {
   "cell_type": "code",
   "execution_count": 19,
   "metadata": {},
   "outputs": [
    {
     "data": {
      "text/html": [
       "<div>\n",
       "<style scoped>\n",
       "    .dataframe tbody tr th:only-of-type {\n",
       "        vertical-align: middle;\n",
       "    }\n",
       "\n",
       "    .dataframe tbody tr th {\n",
       "        vertical-align: top;\n",
       "    }\n",
       "\n",
       "    .dataframe thead th {\n",
       "        text-align: right;\n",
       "    }\n",
       "</style>\n",
       "<table border=\"1\" class=\"dataframe\">\n",
       "  <thead>\n",
       "    <tr style=\"text-align: right;\">\n",
       "      <th></th>\n",
       "      <th>Date</th>\n",
       "      <th>Species</th>\n",
       "      <th>Block</th>\n",
       "      <th>Trap</th>\n",
       "      <th>Latitude</th>\n",
       "      <th>Longitude</th>\n",
       "      <th>NumMosquitos</th>\n",
       "      <th>WnvPresent</th>\n",
       "    </tr>\n",
       "  </thead>\n",
       "  <tbody>\n",
       "    <tr>\n",
       "      <th>0</th>\n",
       "      <td>2007-05-29</td>\n",
       "      <td>CULEX PIPIENS/RESTUANS</td>\n",
       "      <td>41</td>\n",
       "      <td>T002</td>\n",
       "      <td>41.954690</td>\n",
       "      <td>-87.800991</td>\n",
       "      <td>1</td>\n",
       "      <td>0</td>\n",
       "    </tr>\n",
       "    <tr>\n",
       "      <th>1</th>\n",
       "      <td>2007-05-29</td>\n",
       "      <td>CULEX RESTUANS</td>\n",
       "      <td>41</td>\n",
       "      <td>T002</td>\n",
       "      <td>41.954690</td>\n",
       "      <td>-87.800991</td>\n",
       "      <td>1</td>\n",
       "      <td>0</td>\n",
       "    </tr>\n",
       "    <tr>\n",
       "      <th>2</th>\n",
       "      <td>2007-05-29</td>\n",
       "      <td>CULEX RESTUANS</td>\n",
       "      <td>62</td>\n",
       "      <td>T007</td>\n",
       "      <td>41.994991</td>\n",
       "      <td>-87.769279</td>\n",
       "      <td>1</td>\n",
       "      <td>0</td>\n",
       "    </tr>\n",
       "    <tr>\n",
       "      <th>3</th>\n",
       "      <td>2007-05-29</td>\n",
       "      <td>CULEX PIPIENS/RESTUANS</td>\n",
       "      <td>79</td>\n",
       "      <td>T015</td>\n",
       "      <td>41.974089</td>\n",
       "      <td>-87.824812</td>\n",
       "      <td>1</td>\n",
       "      <td>0</td>\n",
       "    </tr>\n",
       "    <tr>\n",
       "      <th>4</th>\n",
       "      <td>2007-05-29</td>\n",
       "      <td>CULEX RESTUANS</td>\n",
       "      <td>79</td>\n",
       "      <td>T015</td>\n",
       "      <td>41.974089</td>\n",
       "      <td>-87.824812</td>\n",
       "      <td>4</td>\n",
       "      <td>0</td>\n",
       "    </tr>\n",
       "  </tbody>\n",
       "</table>\n",
       "</div>"
      ],
      "text/plain": [
       "         Date                 Species  Block  Trap   Latitude  Longitude  \\\n",
       "0  2007-05-29  CULEX PIPIENS/RESTUANS     41  T002  41.954690 -87.800991   \n",
       "1  2007-05-29          CULEX RESTUANS     41  T002  41.954690 -87.800991   \n",
       "2  2007-05-29          CULEX RESTUANS     62  T007  41.994991 -87.769279   \n",
       "3  2007-05-29  CULEX PIPIENS/RESTUANS     79  T015  41.974089 -87.824812   \n",
       "4  2007-05-29          CULEX RESTUANS     79  T015  41.974089 -87.824812   \n",
       "\n",
       "   NumMosquitos  WnvPresent  \n",
       "0             1           0  \n",
       "1             1           0  \n",
       "2             1           0  \n",
       "3             1           0  \n",
       "4             4           0  "
      ]
     },
     "execution_count": 19,
     "metadata": {},
     "output_type": "execute_result"
    }
   ],
   "source": [
    "train.head()"
   ]
  },
  {
   "cell_type": "markdown",
   "metadata": {},
   "source": [
    "### Cleaning Spray Data"
   ]
  },
  {
   "cell_type": "markdown",
   "metadata": {},
   "source": [
    "> Because there is no way of filling the missing values in our spray data, we would either have to remove the observations that have no Time values, or drop the Time feature. I believe that not knowing the time of the spray is better than not knowing the location of 500+ sprays."
   ]
  },
  {
   "cell_type": "code",
   "execution_count": 20,
   "metadata": {},
   "outputs": [
    {
     "name": "stdout",
     "output_type": "stream",
     "text": [
      "The Time feature is missing 584 observations out of 14835\n"
     ]
    }
   ],
   "source": [
    "check_nulls(spray)"
   ]
  },
  {
   "cell_type": "code",
   "execution_count": 21,
   "metadata": {},
   "outputs": [
    {
     "data": {
      "text/html": [
       "<div>\n",
       "<style scoped>\n",
       "    .dataframe tbody tr th:only-of-type {\n",
       "        vertical-align: middle;\n",
       "    }\n",
       "\n",
       "    .dataframe tbody tr th {\n",
       "        vertical-align: top;\n",
       "    }\n",
       "\n",
       "    .dataframe thead th {\n",
       "        text-align: right;\n",
       "    }\n",
       "</style>\n",
       "<table border=\"1\" class=\"dataframe\">\n",
       "  <thead>\n",
       "    <tr style=\"text-align: right;\">\n",
       "      <th></th>\n",
       "      <th>Date</th>\n",
       "      <th>Latitude</th>\n",
       "      <th>Longitude</th>\n",
       "    </tr>\n",
       "  </thead>\n",
       "  <tbody>\n",
       "    <tr>\n",
       "      <th>0</th>\n",
       "      <td>2011-08-29</td>\n",
       "      <td>42.391623</td>\n",
       "      <td>-88.089163</td>\n",
       "    </tr>\n",
       "    <tr>\n",
       "      <th>1</th>\n",
       "      <td>2011-08-29</td>\n",
       "      <td>42.391348</td>\n",
       "      <td>-88.089163</td>\n",
       "    </tr>\n",
       "    <tr>\n",
       "      <th>2</th>\n",
       "      <td>2011-08-29</td>\n",
       "      <td>42.391022</td>\n",
       "      <td>-88.089157</td>\n",
       "    </tr>\n",
       "    <tr>\n",
       "      <th>3</th>\n",
       "      <td>2011-08-29</td>\n",
       "      <td>42.390637</td>\n",
       "      <td>-88.089158</td>\n",
       "    </tr>\n",
       "    <tr>\n",
       "      <th>4</th>\n",
       "      <td>2011-08-29</td>\n",
       "      <td>42.390410</td>\n",
       "      <td>-88.088858</td>\n",
       "    </tr>\n",
       "  </tbody>\n",
       "</table>\n",
       "</div>"
      ],
      "text/plain": [
       "         Date   Latitude  Longitude\n",
       "0  2011-08-29  42.391623 -88.089163\n",
       "1  2011-08-29  42.391348 -88.089163\n",
       "2  2011-08-29  42.391022 -88.089157\n",
       "3  2011-08-29  42.390637 -88.089158\n",
       "4  2011-08-29  42.390410 -88.088858"
      ]
     },
     "execution_count": 21,
     "metadata": {},
     "output_type": "execute_result"
    }
   ],
   "source": [
    "spray.drop(columns='Time',inplace=True)\n",
    "spray.head()"
   ]
  },
  {
   "cell_type": "markdown",
   "metadata": {},
   "source": [
    "### Saving the Clean Data Frames"
   ]
  },
  {
   "cell_type": "code",
   "execution_count": 22,
   "metadata": {},
   "outputs": [],
   "source": [
    "spray.to_csv('../Data/clean_spray.csv')\n",
    "test.to_csv('../Data/clean_test.csv')\n",
    "weather.to_csv('../Data/clean_weather.csv')\n",
    "train.to_csv('../Data/clean_train.csv')"
   ]
  }
 ],
 "metadata": {
  "kernelspec": {
   "display_name": "Python 3",
   "language": "python",
   "name": "python3"
  },
  "language_info": {
   "codemirror_mode": {
    "name": "ipython",
    "version": 3
   },
   "file_extension": ".py",
   "mimetype": "text/x-python",
   "name": "python",
   "nbconvert_exporter": "python",
   "pygments_lexer": "ipython3",
   "version": "3.6.5"
  }
 },
 "nbformat": 4,
 "nbformat_minor": 2
}
